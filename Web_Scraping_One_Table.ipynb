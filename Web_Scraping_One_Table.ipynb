{
 "cells": [
  {
   "cell_type": "code",
   "execution_count": 2,
   "id": "a10a2324-59ef-4310-af39-fd8441fcb753",
   "metadata": {},
   "outputs": [],
   "source": [
    "#import necessary packages\n",
    "from bs4 import BeautifulSoup\n",
    "import requests\n",
    "import pandas as pd\n",
    "import os"
   ]
  },
  {
   "cell_type": "code",
   "execution_count": 3,
   "id": "46fc434c-148d-43f3-8736-d1ff36e3b3a1",
   "metadata": {},
   "outputs": [],
   "source": [
    "#url of your site\n",
    "url = 'https://en.wikipedia.org/wiki/List_of_sovereign_states_by_date_of_formation#Sortable_list'"
   ]
  },
  {
   "cell_type": "code",
   "execution_count": 4,
   "id": "0cb52d51-2866-4749-8fca-7a2ab692150e",
   "metadata": {},
   "outputs": [],
   "source": [
    "#reach out to the site and get imformation  \n",
    "page = requests.get(url)\n",
    "soup = BeautifulSoup(page.text, 'html.parser')"
   ]
  },
  {
   "cell_type": "code",
   "execution_count": 5,
   "id": "312d49be-efd6-4357-b2cb-7aa51ccfd550",
   "metadata": {},
   "outputs": [],
   "source": [
    "#get our table\n",
    "table = soup.find_all('table')[2]#number of your table form top"
   ]
  },
  {
   "cell_type": "code",
   "execution_count": 7,
   "id": "cfccc294-032c-427e-921f-55bf511a5034",
   "metadata": {},
   "outputs": [],
   "source": [
    "#get header from your table  and save in list\n",
    "headers = []\n",
    "for th in table.find_all('th'):\n",
    "    headers.append(th.text.strip())"
   ]
  },
  {
   "cell_type": "code",
   "execution_count": 8,
   "id": "a8e7e6b2-9a33-4403-8a28-c1ea1f6b2597",
   "metadata": {},
   "outputs": [],
   "source": [
    "#save your header in a dataframe \n",
    "df = pd.DataFrame(columns=headers)"
   ]
  },
  {
   "cell_type": "code",
   "execution_count": 9,
   "id": "d95e84f4-90db-4d57-afd2-c5600379357b",
   "metadata": {},
   "outputs": [],
   "source": [
    "#get all data from that table and save them in created data frame\n",
    "for row in table.find_all('tr')[1:]:  # Skip header row because you gat that above\n",
    "    row_data = []\n",
    "    # Extract each cell's data\n",
    "    for cell in row.find_all('td'):\n",
    "        row_data.append(cell.text.strip())\n",
    "    \n",
    "    # Only add row if we have data and it matches headers length\n",
    "    if row_data and len(row_data) == len(headers):\n",
    "        length = len(df)\n",
    "        df.loc[length] = row_data"
   ]
  },
  {
   "cell_type": "code",
   "execution_count": 10,
   "id": "d64e90f0-87d3-4005-ab9f-f6310ba49420",
   "metadata": {},
   "outputs": [
    {
     "name": "stdout",
     "output_type": "stream",
     "text": [
      "First few rows of the scraped data:\n"
     ]
    },
    {
     "data": {
      "text/html": [
       "<div>\n",
       "<style scoped>\n",
       "    .dataframe tbody tr th:only-of-type {\n",
       "        vertical-align: middle;\n",
       "    }\n",
       "\n",
       "    .dataframe tbody tr th {\n",
       "        vertical-align: top;\n",
       "    }\n",
       "\n",
       "    .dataframe thead th {\n",
       "        text-align: right;\n",
       "    }\n",
       "</style>\n",
       "<table border=\"1\" class=\"dataframe\">\n",
       "  <thead>\n",
       "    <tr style=\"text-align: right;\">\n",
       "      <th></th>\n",
       "      <th>Country</th>\n",
       "      <th>Date of current form of government</th>\n",
       "      <th>Birth of current form of government</th>\n",
       "      <th>Date of acquisition of sovereignty</th>\n",
       "      <th>Acquisition of sovereignty</th>\n",
       "      <th>Date of territorial modification</th>\n",
       "      <th>Most recent significant territorial modification</th>\n",
       "    </tr>\n",
       "  </thead>\n",
       "  <tbody>\n",
       "    <tr>\n",
       "      <th>0</th>\n",
       "      <td>Algeria</td>\n",
       "      <td>19 September 1958</td>\n",
       "      <td>Provisional Government of the Algerian Republi...</td>\n",
       "      <td>202 BC(Date of formation of Numidia)[6]</td>\n",
       "      <td>Massinissa unifies Numidia which extended from...</td>\n",
       "      <td>18 March 1845</td>\n",
       "      <td>Lalla Maghnia treaty between French administra...</td>\n",
       "    </tr>\n",
       "    <tr>\n",
       "      <th>1</th>\n",
       "      <td>Angola</td>\n",
       "      <td>1975</td>\n",
       "      <td></td>\n",
       "      <td>11 November 1975</td>\n",
       "      <td>Independence from Portugal</td>\n",
       "      <td></td>\n",
       "      <td></td>\n",
       "    </tr>\n",
       "    <tr>\n",
       "      <th>2</th>\n",
       "      <td>Benin</td>\n",
       "      <td>1 March 1960</td>\n",
       "      <td></td>\n",
       "      <td>1 August 1960</td>\n",
       "      <td>Independence from France</td>\n",
       "      <td>15 January 1894</td>\n",
       "      <td>Borders of French Protectorate of Dahomey set ...</td>\n",
       "    </tr>\n",
       "    <tr>\n",
       "      <th>3</th>\n",
       "      <td>Botswana</td>\n",
       "      <td>30 September 1966</td>\n",
       "      <td></td>\n",
       "      <td>30 September 1966</td>\n",
       "      <td>Independence from the United Kingdom</td>\n",
       "      <td>31 December 1999</td>\n",
       "      <td>Sedudu ruled to belong to Botswana rather than...</td>\n",
       "    </tr>\n",
       "    <tr>\n",
       "      <th>4</th>\n",
       "      <td>Burkina Faso</td>\n",
       "      <td>30 September 2022</td>\n",
       "      <td>Coup d'état</td>\n",
       "      <td>5 August 1960</td>\n",
       "      <td>Independence from France</td>\n",
       "      <td></td>\n",
       "      <td></td>\n",
       "    </tr>\n",
       "  </tbody>\n",
       "</table>\n",
       "</div>"
      ],
      "text/plain": [
       "        Country Date of current form of government  \\\n",
       "0       Algeria                  19 September 1958   \n",
       "1        Angola                               1975   \n",
       "2         Benin                       1 March 1960   \n",
       "3      Botswana                  30 September 1966   \n",
       "4  Burkina Faso                  30 September 2022   \n",
       "\n",
       "                 Birth of current form of government  \\\n",
       "0  Provisional Government of the Algerian Republi...   \n",
       "1                                                      \n",
       "2                                                      \n",
       "3                                                      \n",
       "4                                        Coup d'état   \n",
       "\n",
       "        Date of acquisition of sovereignty  \\\n",
       "0  202 BC(Date of formation of Numidia)[6]   \n",
       "1                         11 November 1975   \n",
       "2                            1 August 1960   \n",
       "3                        30 September 1966   \n",
       "4                            5 August 1960   \n",
       "\n",
       "                          Acquisition of sovereignty  \\\n",
       "0  Massinissa unifies Numidia which extended from...   \n",
       "1                         Independence from Portugal   \n",
       "2                           Independence from France   \n",
       "3               Independence from the United Kingdom   \n",
       "4                           Independence from France   \n",
       "\n",
       "  Date of territorial modification  \\\n",
       "0                    18 March 1845   \n",
       "1                                    \n",
       "2                  15 January 1894   \n",
       "3                 31 December 1999   \n",
       "4                                    \n",
       "\n",
       "    Most recent significant territorial modification  \n",
       "0  Lalla Maghnia treaty between French administra...  \n",
       "1                                                     \n",
       "2  Borders of French Protectorate of Dahomey set ...  \n",
       "3  Sedudu ruled to belong to Botswana rather than...  \n",
       "4                                                     "
      ]
     },
     "execution_count": 10,
     "metadata": {},
     "output_type": "execute_result"
    }
   ],
   "source": [
    "print(\"First few rows of the scraped data:\")\n",
    "df.head()"
   ]
  },
  {
   "cell_type": "code",
   "execution_count": 11,
   "id": "d8610da1-da77-42be-a5b1-56dfcbe49e45",
   "metadata": {},
   "outputs": [
    {
     "name": "stdout",
     "output_type": "stream",
     "text": [
      "File saved successfully at: C:\\Users\\aminm\\Desktop\\world_oldest_countries.csv\n"
     ]
    }
   ],
   "source": [
    "# Get the user's desktop path\n",
    "desktop = os.path.join(os.path.expanduser('~'), 'Desktop')\n",
    "filepath = os.path.join(desktop, 'world_oldest_countries.csv')\n",
    "# Save the DataFrame\n",
    "df.to_csv(filepath, index=False)\n",
    "print(f\"File saved successfully at: {filepath}\")"
   ]
  },
  {
   "cell_type": "code",
   "execution_count": null,
   "id": "ac717751-4c33-491d-aeb0-46aa99bc38ac",
   "metadata": {},
   "outputs": [],
   "source": []
  }
 ],
 "metadata": {
  "kernelspec": {
   "display_name": "Python 3 (ipykernel)",
   "language": "python",
   "name": "python3"
  },
  "language_info": {
   "codemirror_mode": {
    "name": "ipython",
    "version": 3
   },
   "file_extension": ".py",
   "mimetype": "text/x-python",
   "name": "python",
   "nbconvert_exporter": "python",
   "pygments_lexer": "ipython3",
   "version": "3.12.4"
  }
 },
 "nbformat": 4,
 "nbformat_minor": 5
}
